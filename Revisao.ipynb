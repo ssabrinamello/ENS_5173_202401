{
 "cells": [
  {
   "cell_type": "code",
   "execution_count": 1,
   "id": "d9c61298-b5dc-44bc-8ee5-208da721a159",
   "metadata": {},
   "outputs": [
    {
     "name": "stdout",
     "output_type": "stream",
     "text": [
      "Guilhermegente fina\n"
     ]
    }
   ],
   "source": [
    "# Tipos de variáveis - string texto\n",
    "a = 'Guilherme'\n",
    "b = a + 'gente fina'\n",
    "print(b)\n"
   ]
  },
  {
   "cell_type": "code",
   "execution_count": 2,
   "id": "456e6899-4409-42fd-be01-2a832ec2a209",
   "metadata": {},
   "outputs": [
    {
     "name": "stdout",
     "output_type": "stream",
     "text": [
      "11\n",
      "<class 'int'>\n"
     ]
    }
   ],
   "source": [
    "# Tipos de variáveis - inteira\n",
    "c = 1\n",
    "d = c +10\n",
    "print(d)\n",
    "print(type(d)) # type - tipo de variavel (inteira)\n"
   ]
  },
  {
   "cell_type": "code",
   "execution_count": 7,
   "id": "2145411a-03ee-4783-987c-4500036460f8",
   "metadata": {},
   "outputs": [
    {
     "name": "stdout",
     "output_type": "stream",
     "text": [
      "valor de g = 21.0 e o valor de h= 110.25\n",
      "<class 'float'>\n",
      "valor de f = 10 do tipo = <class 'int'>\n",
      "valor de f = 10.0 do tipo = <class 'float'>\n"
     ]
    }
   ],
   "source": [
    "# Tipo de variavel - floot\n",
    "f = 10.5\n",
    "g = f*2\n",
    "h = f**2\n",
    "print('valor de g = '+str(g) + ' e o valor de h= '+ str(h))\n",
    "print(type(h))\n",
    "f = int(f)\n",
    "print('valor de f = '+str(f) + ' do tipo = '+ str(type(f)))\n",
    "f= float(f)\n",
    "print('valor de f = '+str(f) + ' do tipo = '+ str(type(f)))\n",
    "\n",
    "\n",
    " \n"
   ]
  },
  {
   "cell_type": "code",
   "execution_count": 8,
   "id": "cf157377-7c1f-4326-8751-d6f0e6f39750",
   "metadata": {},
   "outputs": [
    {
     "name": "stdout",
     "output_type": "stream",
     "text": [
      "['Guilherme', 'Flavia', 'Lucas']\n",
      "[3, 6, 6]\n",
      "<class 'list'>\n"
     ]
    }
   ],
   "source": [
    "# Exemplo dicionario \n",
    "dicionario = {\n",
    "    'alunos' :['Guilherme', 'Flavia', 'Lucas'],\n",
    "    'notas': [3, 6, 6]\n",
    "}\n",
    "print(dicionario['alunos'])\n",
    "print(dicionario['notas'])\n",
    "print(type(dicionario['notas']))\n",
    "\n"
   ]
  },
  {
   "cell_type": "code",
   "execution_count": 37,
   "id": "ec9d80fb-376e-4049-b3e4-efdab9495dbd",
   "metadata": {},
   "outputs": [
    {
     "ename": "IndentationError",
     "evalue": "expected an indented block after 'if' statement on line 10 (3114898217.py, line 11)",
     "output_type": "error",
     "traceback": [
      "\u001b[1;36m  Cell \u001b[1;32mIn[37], line 11\u001b[1;36m\u001b[0m\n\u001b[1;33m    print(str(ii) + ' '+ alunos + 'notas = 10.0')\u001b[0m\n\u001b[1;37m    ^\u001b[0m\n\u001b[1;31mIndentationError\u001b[0m\u001b[1;31m:\u001b[0m expected an indented block after 'if' statement on line 10\n"
     ]
    }
   ],
   "source": [
    "# Treinando Loop\n",
    "for ii,alunos in enumerate(dicionario['alunos']):\n",
    "    print(str(ii) + ' '+ alunos + 'notas = ' + str(dicionario['notas'][ii]))\n",
    "print(' ')\n",
    "\n",
    "for ii in range(0, len(dicionario['alunos'])):\n",
    "    print(str(ii) + ' ' + str(dicionario['alunos'] [ii]) + 'notas = ' + str(dicionario['notas'] [ii]))\n",
    "\n",
    "for ii,alunos in enumerate(dicionario['alunos']):\n",
    "    if (alunos=='Guilherme') and (dicionario['notas'][ii]<=9):\n",
    "    print(str(ii) + ' '+ alunos + 'notas = 10.0')\n",
    "else: \n",
    "    print(str(ii) + ' ' + alunos + 'notas = ' +str(dicionario['notas'] [ii]))\n"
   ]
  },
  {
   "cell_type": "code",
   "execution_count": 29,
   "id": "63a817d1-33e1-40fc-aba0-ac8456073397",
   "metadata": {},
   "outputs": [
    {
     "name": "stdout",
     "output_type": "stream",
     "text": [
      "False\n",
      "True\n",
      "False\n",
      "False\n",
      "True\n",
      "False\n",
      "<class 'bool'>\n"
     ]
    }
   ],
   "source": [
    "# Operações lógicas \n",
    "a = 1\n",
    "b = 3\n",
    "c = 1\n",
    "print(a==b) # igual a - operação lógica comparação\n",
    "print(a==c)\n",
    "print(a>c)  # maior que \n",
    "print(a<c)  # menor que \n",
    "print(a!=b) # diferente de \n",
    "print(a!=c) # diferente de\n",
    "\n",
    "opTF = a!=c  # recebe a operação em uma variavel boleana (Falso ou Verdadeiro)\n",
    "print(type(opTF))\n",
    "\n",
    "opT = True\n",
    "opF = False \n"
   ]
  },
  {
   "cell_type": "code",
   "execution_count": 39,
   "id": "bd1fb24e-4e20-4b99-bfd1-b1daeff63a17",
   "metadata": {},
   "outputs": [
    {
     "name": "stdout",
     "output_type": "stream",
     "text": [
      "['Guilherme' 'Flavia' 'Lucas']\n",
      "<class 'numpy.ndarray'>\n",
      "\n",
      "[False False  True]\n",
      "(array([2], dtype=int64),)\n"
     ]
    }
   ],
   "source": [
    "# Treinando  numpy \n",
    "import numpy as np\n",
    "mat = np.array(dicionario['alunos']) #np.array - convertendo\n",
    "print(mat)\n",
    "print(type(mat))\n",
    "\n",
    "print('')\n",
    "mat2 = np.array(mat=='Lucas')\n",
    "print(mat2)\n",
    "#Local da matriz com valor verdadeiro\n",
    "print(np.where(mat2)) # np.where procura onde o indice é verdadeiro\n",
    "\n",
    "dicionario ['notas'] [dicionario['alunos']=='Lucas'] = 9.5"
   ]
  },
  {
   "cell_type": "code",
   "execution_count": 42,
   "id": "b611b68a-a5aa-4f3c-b227-57e0caebc7a0",
   "metadata": {},
   "outputs": [
    {
     "name": "stdout",
     "output_type": "stream",
     "text": [
      "[0.73058144 0.7950071  0.35541339 0.97696402 0.50882887 0.70297108\n",
      " 0.82299333 0.69432343 0.22132269 0.44943133 0.75947275 0.20549897\n",
      " 0.54622961 0.72281648 0.53588743 0.81056691 0.47322416 0.52707624\n",
      " 0.00583333 0.38649083 0.83166804 0.32845991 0.38379895 0.57847171\n",
      " 0.24923804 0.02528933 0.22776704 0.6967009  0.53172492 0.67775282\n",
      " 0.62052113 0.6113964  0.11404859 0.8113268  0.42019232 0.72834132\n",
      " 0.66016971 0.21332787 0.5198761  0.85179433 0.64817406 0.07457357\n",
      " 0.34353565 0.3180766  0.25770681 0.58308882 0.51703845 0.02553273\n",
      " 0.48008087 0.61190529 0.23471031 0.37801795 0.79531478 0.57569914\n",
      " 0.84469698 0.23123718 0.96901907 0.8243844  0.2700957  0.85223052\n",
      " 0.8676448  0.51993707 0.02555422 0.64950872 0.3891084  0.15814642\n",
      " 0.12301741 0.86535374 0.93151683 0.89225547 0.36226384 0.53218425\n",
      " 0.51961307 0.35130835 0.68773554 0.51804576 0.8600316  0.36235394\n",
      " 0.16380794 0.50094212 0.23062827 0.59296717 0.34320826 0.61720361\n",
      " 0.4481359  0.64538054 0.56186496 0.56871952 0.64629314 0.74074085\n",
      " 0.31929628 0.66514884 0.75775032 0.51352892 0.9287564  0.35137614\n",
      " 0.93644621 0.48195851 0.48381722 0.3168269 ]\n",
      "[0.66730279 0.71386858 0.34797794 0.82880244 0.48715481 0.64648725\n",
      " 0.73318466 0.63986565 0.21952024 0.43445341 0.68853918 0.20405566\n",
      " 0.51946917 0.6614995  0.51060426 0.72467794 0.45575849 0.50300854\n",
      " 0.0058333  0.37694041 0.73905606 0.32258566 0.37444573 0.54674494\n",
      " 0.24666561 0.02528663 0.2258028  0.6416909  0.50702086 0.62704409\n",
      " 0.58145922 0.57401146 0.11380151 0.72520136 0.40793605 0.66563271\n",
      " 0.61325091 0.2117135  0.49677261 0.75246342 0.60373179 0.07450447\n",
      " 0.33681825 0.31274022 0.25486376 0.550605   0.49430788 0.02552996\n",
      " 0.46185091 0.57442809 0.23256125 0.36907908 0.71408401 0.54442137\n",
      " 0.74776996 0.22918195 0.8243308  0.73412993 0.26682367 0.75275064\n",
      " 0.76280813 0.49682553 0.02555144 0.60479523 0.37936361 0.15748803\n",
      " 0.12270737 0.76132466 0.80252583 0.77848939 0.35439205 0.50741672\n",
      " 0.49654432 0.34412655 0.63478909 0.49518327 0.75786318 0.3544763\n",
      " 0.16307634 0.48025211 0.2285892  0.55882411 0.33650998 0.57875697\n",
      " 0.43328625 0.60150248 0.53276537 0.53855357 0.60223128 0.67483482\n",
      " 0.31389848 0.61717625 0.68728905 0.49125405 0.80087585 0.34419019\n",
      " 0.80545703 0.46351548 0.46516166 0.31155296]\n"
     ]
    }
   ],
   "source": [
    "#Matriz numpy\n",
    "vec = np.random.rand(100) # criando 100 valores aleatorios\n",
    "print(vec)\n",
    "vec = np.sin(vec) \n",
    "print(vec)\n",
    "\n"
   ]
  },
  {
   "cell_type": "code",
   "execution_count": 43,
   "id": "606169c9-22c4-4fd3-ba2e-01093ad7cae5",
   "metadata": {},
   "outputs": [
    {
     "name": "stdout",
     "output_type": "stream",
     "text": [
      "[datetime.datetime(2024, 4, 1, 0, 0) datetime.datetime(2024, 4, 2, 0, 0)\n",
      " datetime.datetime(2024, 4, 3, 0, 0) datetime.datetime(2024, 4, 4, 0, 0)\n",
      " datetime.datetime(2024, 4, 5, 0, 0) datetime.datetime(2024, 4, 6, 0, 0)\n",
      " datetime.datetime(2024, 4, 7, 0, 0) datetime.datetime(2024, 4, 8, 0, 0)\n",
      " datetime.datetime(2024, 4, 9, 0, 0) datetime.datetime(2024, 4, 10, 0, 0)]\n"
     ]
    }
   ],
   "source": [
    "# Criando \n",
    "import numpy as np\n",
    "from datetime import datetime, timedelta\n",
    "\n",
    "# Definindo a data inicial e o número de dias\n",
    "data_inicial = datetime(2024, 4, 1)\n",
    "num_dias = 10\n",
    "\n",
    "# Criando um vetor de datas usando list comprehension\n",
    "datas = [data_inicial + timedelta(days=i) for i in range(num_dias)]\n",
    "\n",
    "# Convertendo a lista de datas em uma matriz NumPy\n",
    "matriz_datas = np.array(datas)\n",
    "\n",
    "print(matriz_datas)"
   ]
  },
  {
   "cell_type": "code",
   "execution_count": 44,
   "id": "e64ef302-c38f-4e77-b5d8-648ce6add72d",
   "metadata": {},
   "outputs": [
    {
     "ename": "NameError",
     "evalue": "name 'date_vector' is not defined",
     "output_type": "error",
     "traceback": [
      "\u001b[1;31m---------------------------------------------------------------------------\u001b[0m",
      "\u001b[1;31mNameError\u001b[0m                                 Traceback (most recent call last)",
      "Cell \u001b[1;32mIn[44], line 5\u001b[0m\n\u001b[0;32m      2\u001b[0m \u001b[38;5;28;01mimport\u001b[39;00m \u001b[38;5;21;01mpandas\u001b[39;00m \u001b[38;5;28;01mas\u001b[39;00m \u001b[38;5;21;01mpd\u001b[39;00m \n\u001b[0;32m      4\u001b[0m df\u001b[38;5;241m=\u001b[39m pd\u001b[38;5;241m.\u001b[39mDataFrame()\n\u001b[1;32m----> 5\u001b[0m df[\u001b[38;5;124m'\u001b[39m\u001b[38;5;124mdatas\u001b[39m\u001b[38;5;124m'\u001b[39m] \u001b[38;5;241m=\u001b[39m \u001b[43mdate_vector\u001b[49m\n\u001b[0;32m      6\u001b[0m df[\u001b[38;5;124m'\u001b[39m\u001b[38;5;124mvec\u001b[39m\u001b[38;5;124m'\u001b[39m] \u001b[38;5;241m=\u001b[39m vec \n\u001b[0;32m      7\u001b[0m df[\u001b[38;5;124m'\u001b[39m\u001b[38;5;124mvec2\u001b[39m\u001b[38;5;124m'\u001b[39m] \u001b[38;5;241m=\u001b[39m vec2\n",
      "\u001b[1;31mNameError\u001b[0m: name 'date_vector' is not defined"
     ]
    }
   ],
   "source": [
    "#Criando DataFrame e salvando \n",
    "import pandas as pd \n",
    "\n",
    "df= pd.DataFrame()\n",
    "df['datas'] = date_vector\n",
    "df['vec'] = vec \n",
    "df['vec2'] = vec2\n",
    "print(df)\n",
    "\n",
    "#Salvando em uma pasta \n",
    "pasta = r\"C:\\Users\\sah27\\Documents\\GitHub\\ENS_5173_202401\\Tabelas\"\n",
    "df.to_csv(pasta+'\n",
    "\n"
   ]
  },
  {
   "cell_type": "code",
   "execution_count": null,
   "id": "cb7ae920-3229-4002-be3a-8446ad738e66",
   "metadata": {},
   "outputs": [],
   "source": []
  }
 ],
 "metadata": {
  "kernelspec": {
   "display_name": "Python 3 (ipykernel)",
   "language": "python",
   "name": "python3"
  },
  "language_info": {
   "codemirror_mode": {
    "name": "ipython",
    "version": 3
   },
   "file_extension": ".py",
   "mimetype": "text/x-python",
   "name": "python",
   "nbconvert_exporter": "python",
   "pygments_lexer": "ipython3",
   "version": "3.11.8"
  }
 },
 "nbformat": 4,
 "nbformat_minor": 5
}
