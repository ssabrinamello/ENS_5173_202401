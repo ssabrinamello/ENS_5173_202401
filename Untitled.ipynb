{
 "cells": [
  {
   "cell_type": "markdown",
   "id": "da2310ef-ec5b-4c70-8eff-b1c4c9d68605",
   "metadata": {},
   "source": [
    "#Aula 04 - revisando comandos Python "
   ]
  },
  {
   "cell_type": "code",
   "execution_count": 1,
   "id": "71ff47f5-8df2-4de6-93b0-9e0c68d2d44a",
   "metadata": {},
   "outputs": [
    {
     "name": "stdout",
     "output_type": "stream",
     "text": [
      "[0, 'texto', 2.5]\n"
     ]
    }
   ],
   "source": [
    "#criando uma lista em python \n",
    "list = [0, 'texto', 2.5]\n",
    "print (list)\n",
    "print('variável: '+list[1])\n",
    "      print(list[0] +1)\n",
    "      #dessa forma é possivel fazer adição de duas strings, sendo que list [1] é o segundo indice do vetor list \n",
    "      print('variável' + list[1])\n",
    "\n"
   ]
  },
  {
   "cell_type": "code",
   "execution_count": null,
   "id": "04d9f2e2-a92a-45bf-9389-68c3ba40de4f",
   "metadata": {},
   "outputs": [],
   "source": [
    "# criando uma matriz numpy\n",
    "import numpy as "
   ]
  }
 ],
 "metadata": {
  "kernelspec": {
   "display_name": "Python 3 (ipykernel)",
   "language": "python",
   "name": "python3"
  },
  "language_info": {
   "codemirror_mode": {
    "name": "ipython",
    "version": 3
   },
   "file_extension": ".py",
   "mimetype": "text/x-python",
   "name": "python",
   "nbconvert_exporter": "python",
   "pygments_lexer": "ipython3",
   "version": "3.11.8"
  }
 },
 "nbformat": 4,
 "nbformat_minor": 5
}
